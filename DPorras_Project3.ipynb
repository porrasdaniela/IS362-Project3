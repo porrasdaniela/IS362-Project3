{
 "cells": [
  {
   "cell_type": "markdown",
   "id": "6578f37c-17d3-4024-a22c-78a4beca6d09",
   "metadata": {},
   "source": [
    "## Daniela Porras IS362\n",
    "## Project 3 – Chinook Database Analysis\n",
    "In this notebook, I will connect to the Chinook SQLite database using Python. The Chinook database contains information about a digital music store, including data on artists, albums, tracks, customers, invoices, and employees.\n",
    "\n",
    "The goal of this project is to:\n",
    "\n",
    "Connect to the Chinook database using SQLite.\n",
    "\n",
    "Write and execute a SQL query that joins five different tables.\n",
    "\n",
    "Read the query results into a pandas DataFrame.\n",
    "\n",
    "Analyze and explore the data to gain useful insights.\n",
    "\n",
    "This project demonstrates how Python can interact with relational databases for real-world data analysis."
   ]
  },
  {
   "cell_type": "markdown",
   "id": "053bd332-3460-4cb4-a4e3-50c44de7d360",
   "metadata": {},
   "source": [
    "# Step 1\n",
    "In this step, I connect to the Chinook SQLite database using the sqlite3 library. After successfully connecting, I run a query to retrieve a list of all the tables in the database. This helps confirm that the connection works and gives an overview of what data is available for analysis. "
   ]
  },
  {
   "cell_type": "code",
   "execution_count": 1,
   "id": "4c25c027-968c-4c5e-add9-3fc9709c9b9e",
   "metadata": {},
   "outputs": [
    {
     "data": {
      "text/html": [
       "<div>\n",
       "<style scoped>\n",
       "    .dataframe tbody tr th:only-of-type {\n",
       "        vertical-align: middle;\n",
       "    }\n",
       "\n",
       "    .dataframe tbody tr th {\n",
       "        vertical-align: top;\n",
       "    }\n",
       "\n",
       "    .dataframe thead th {\n",
       "        text-align: right;\n",
       "    }\n",
       "</style>\n",
       "<table border=\"1\" class=\"dataframe\">\n",
       "  <thead>\n",
       "    <tr style=\"text-align: right;\">\n",
       "      <th></th>\n",
       "      <th>name</th>\n",
       "    </tr>\n",
       "  </thead>\n",
       "  <tbody>\n",
       "    <tr>\n",
       "      <th>0</th>\n",
       "      <td>Album</td>\n",
       "    </tr>\n",
       "    <tr>\n",
       "      <th>1</th>\n",
       "      <td>Artist</td>\n",
       "    </tr>\n",
       "    <tr>\n",
       "      <th>2</th>\n",
       "      <td>Customer</td>\n",
       "    </tr>\n",
       "    <tr>\n",
       "      <th>3</th>\n",
       "      <td>Employee</td>\n",
       "    </tr>\n",
       "    <tr>\n",
       "      <th>4</th>\n",
       "      <td>Genre</td>\n",
       "    </tr>\n",
       "    <tr>\n",
       "      <th>5</th>\n",
       "      <td>Invoice</td>\n",
       "    </tr>\n",
       "    <tr>\n",
       "      <th>6</th>\n",
       "      <td>InvoiceLine</td>\n",
       "    </tr>\n",
       "    <tr>\n",
       "      <th>7</th>\n",
       "      <td>MediaType</td>\n",
       "    </tr>\n",
       "    <tr>\n",
       "      <th>8</th>\n",
       "      <td>Playlist</td>\n",
       "    </tr>\n",
       "    <tr>\n",
       "      <th>9</th>\n",
       "      <td>PlaylistTrack</td>\n",
       "    </tr>\n",
       "    <tr>\n",
       "      <th>10</th>\n",
       "      <td>Track</td>\n",
       "    </tr>\n",
       "  </tbody>\n",
       "</table>\n",
       "</div>"
      ],
      "text/plain": [
       "             name\n",
       "0           Album\n",
       "1          Artist\n",
       "2        Customer\n",
       "3        Employee\n",
       "4           Genre\n",
       "5         Invoice\n",
       "6     InvoiceLine\n",
       "7       MediaType\n",
       "8        Playlist\n",
       "9   PlaylistTrack\n",
       "10          Track"
      ]
     },
     "execution_count": 1,
     "metadata": {},
     "output_type": "execute_result"
    }
   ],
   "source": [
    "import sqlite3\n",
    "import pandas as pd\n",
    "\n",
    "# Connect to the Chinook SQLite database\n",
    "conn = sqlite3.connect(\"Chinook_Sqlite.sqlite\")\n",
    "\n",
    "# Test: Get the list of tables\n",
    "query = \"SELECT name FROM sqlite_master WHERE type='table';\"\n",
    "tables = pd.read_sql(query, conn)\n",
    "tables"
   ]
  },
  {
   "cell_type": "markdown",
   "id": "8d296b4b-b5b4-498d-91d5-e1c77120d409",
   "metadata": {},
   "source": [
    "# Step 2 \n",
    "In this step, I write a SQL query to join five related tables: InvoiceLine, Invoice, Customer, Employee, and Track. This allows me to retrieve detailed invoice information, including the invoice date, customer and support rep names, track purchased, unit price, quantity, and total amount. The result is loaded into a pandas DataFrame for further analysis."
   ]
  },
  {
   "cell_type": "code",
   "execution_count": 6,
   "id": "687c9e28-da26-42e4-80c0-79b37c3c3ed9",
   "metadata": {},
   "outputs": [
    {
     "data": {
      "text/html": [
       "<div>\n",
       "<style scoped>\n",
       "    .dataframe tbody tr th:only-of-type {\n",
       "        vertical-align: middle;\n",
       "    }\n",
       "\n",
       "    .dataframe tbody tr th {\n",
       "        vertical-align: top;\n",
       "    }\n",
       "\n",
       "    .dataframe thead th {\n",
       "        text-align: right;\n",
       "    }\n",
       "</style>\n",
       "<table border=\"1\" class=\"dataframe\">\n",
       "  <thead>\n",
       "    <tr style=\"text-align: right;\">\n",
       "      <th></th>\n",
       "      <th>LastName</th>\n",
       "      <th>FirstName</th>\n",
       "      <th>TrackName</th>\n",
       "      <th>AlbumTitle</th>\n",
       "    </tr>\n",
       "  </thead>\n",
       "  <tbody>\n",
       "    <tr>\n",
       "      <th>0</th>\n",
       "      <td>Almeida</td>\n",
       "      <td>Roberto</td>\n",
       "      <td>Right Next Door to Hell</td>\n",
       "      <td>Use Your Illusion I</td>\n",
       "    </tr>\n",
       "    <tr>\n",
       "      <th>1</th>\n",
       "      <td>Almeida</td>\n",
       "      <td>Roberto</td>\n",
       "      <td>In The Evening</td>\n",
       "      <td>In Through The Out Door</td>\n",
       "    </tr>\n",
       "    <tr>\n",
       "      <th>2</th>\n",
       "      <td>Almeida</td>\n",
       "      <td>Roberto</td>\n",
       "      <td>Fool In The Rain</td>\n",
       "      <td>In Through The Out Door</td>\n",
       "    </tr>\n",
       "    <tr>\n",
       "      <th>3</th>\n",
       "      <td>Almeida</td>\n",
       "      <td>Roberto</td>\n",
       "      <td>Saudade Dos Aviões Da Panair (Conversando No Bar)</td>\n",
       "      <td>Minas</td>\n",
       "    </tr>\n",
       "    <tr>\n",
       "      <th>4</th>\n",
       "      <td>Almeida</td>\n",
       "      <td>Roberto</td>\n",
       "      <td>Caso Você Queira Saber</td>\n",
       "      <td>Minas</td>\n",
       "    </tr>\n",
       "  </tbody>\n",
       "</table>\n",
       "</div>"
      ],
      "text/plain": [
       "  LastName FirstName                                          TrackName  \\\n",
       "0  Almeida   Roberto                            Right Next Door to Hell   \n",
       "1  Almeida   Roberto                                     In The Evening   \n",
       "2  Almeida   Roberto                                   Fool In The Rain   \n",
       "3  Almeida   Roberto  Saudade Dos Aviões Da Panair (Conversando No Bar)   \n",
       "4  Almeida   Roberto                             Caso Você Queira Saber   \n",
       "\n",
       "                AlbumTitle  \n",
       "0      Use Your Illusion I  \n",
       "1  In Through The Out Door  \n",
       "2  In Through The Out Door  \n",
       "3                    Minas  \n",
       "4                    Minas  "
      ]
     },
     "execution_count": 6,
     "metadata": {},
     "output_type": "execute_result"
    }
   ],
   "source": [
    "# Write SQL query to join five tables and get useful information\n",
    "query = '''\n",
    "SELECT\n",
    "  c.LastName,\n",
    "  c.FirstName,\n",
    "  t.Name AS TrackName,\n",
    "  al.Title AS AlbumTitle\n",
    "FROM Customer c\n",
    "JOIN Invoice i ON c.CustomerId = i.CustomerId\n",
    "JOIN InvoiceLine il ON i.InvoiceId = il.InvoiceId\n",
    "JOIN Track t ON il.TrackId = t.TrackId\n",
    "JOIN Album al ON t.AlbumId = al.AlbumId\n",
    "ORDER BY c.LastName, c.FirstName\n",
    "'''\n",
    "\n",
    "# Execute the query and load the results into a pandas DataFrame\n",
    "results_df = pd.read_sql(query, conn)\n",
    "\n",
    "# Show the first few rows\n",
    "results_df.head()"
   ]
  },
  {
   "cell_type": "markdown",
   "id": "68eae256-3e69-46cd-84cc-7838989ccde9",
   "metadata": {},
   "source": [
    "# Step 3\n",
    "In this step, I will explore the query results using pandas and matplotlib. I’ll summarize total sales and visualize the top-selling tracks based on total revenue. This helps identify which music tracks are generating the most income for the store."
   ]
  },
  {
   "cell_type": "code",
   "execution_count": 7,
   "id": "9a26275f-2c14-44d0-92a7-9ba3a267ad27",
   "metadata": {},
   "outputs": [
    {
     "data": {
      "text/plain": [
       "TrackName\n",
       "The Trooper                5\n",
       "The Number Of The Beast    4\n",
       "Hallowed Be Thy Name       4\n",
       "Untitled                   4\n",
       "Eruption                   4\n",
       "Sure Know Something        4\n",
       "Brasil                     3\n",
       "Heaven Can Wait            3\n",
       "Good Golly Miss Molly      3\n",
       "Linha Do Equador           3\n",
       "Name: count, dtype: int64"
      ]
     },
     "execution_count": 7,
     "metadata": {},
     "output_type": "execute_result"
    }
   ],
   "source": [
    "# Step 3.1 - Count how many times each track was purchased\n",
    "\n",
    "# Count purchases for each track\n",
    "track_counts = results_df['TrackName'].value_counts().head(10)\n",
    "\n",
    "# Display the top 10 most purchased tracks\n",
    "track_counts"
   ]
  },
  {
   "cell_type": "code",
   "execution_count": 8,
   "id": "02d726d3-8abf-47ad-9062-754b396e9ac3",
   "metadata": {},
   "outputs": [
    {
     "data": {
      "image/png": "[encoded data removed]",
      "text/plain": [
       "<Figure size 1000x600 with 1 Axes>"
      ]
     },
     "metadata": {},
     "output_type": "display_data"
    }
   ],
   "source": [
    "# Step 3.2 - Bar Chart of Top 10 Most Purchased Tracks\n",
    "import matplotlib.pyplot as plt\n",
    "\n",
    "# Plot the top 10 purchased tracks\n",
    "plt.figure(figsize=(10,6))\n",
    "track_counts.plot(kind='bar', color='lightgreen')\n",
    "plt.title('Top 10 Most Purchased Tracks')\n",
    "plt.xlabel('Track Name')\n",
    "plt.ylabel('Number of Purchases')\n",
    "plt.xticks(rotation=45, ha='right')\n",
    "plt.tight_layout()\n",
    "plt.grid(True)\n",
    "plt.show()"
   ]
  },
  {
   "cell_type": "markdown",
   "id": "7a6975e8-e1d9-4376-b34a-ed6e59a10d2d",
   "metadata": {},
   "source": [
    "# Top 10 Most Purchased Tracks\n",
    "This bar chart displays the top 10 tracks with the highest number of purchases based on the Chinook database. Instead of analyzing revenue, this visualization focuses on the frequency of purchases, showing which tracks appear most often in customer invoices.\n",
    "\n",
    "The y-axis represents the number of purchases for each track, while the x-axis lists the track names. From the chart, we can see that \"The Trooper\" was the most purchased track, followed by others like \"The Number of the Beast\" and \"Hallowed Be Thy Name\".\n",
    "\n",
    "This analysis helps identify popular music choices among customers, which could be useful for marketing, playlist curation, or targeted promotions. Even without revenue data, purchase frequency gives meaningful insight into consumer preferences."
   ]
  },
  {
   "cell_type": "markdown",
   "id": "07b61b71-f019-4a3a-9391-677a4e0b7a6f",
   "metadata": {},
   "source": [
    "# Conclusion\n",
    "\n",
    "In this project, I successfully connected to the Chinook SQLite database using Python and performed a multi-table SQL join across five tables: Customer, Invoice, InvoiceLine, Track, and Album. This allowed me to retrieve detailed purchase data for each customer, including track names and album titles. Using pandas, I loaded the results into a DataFrame and conducted further analysis.\n",
    "\n",
    "One of the key insights was identifying the Top 10 Most Purchased Tracks in the dataset. This analysis helps highlight which songs were most popular with customers, and such information can be useful for marketing, inventory planning, or artist promotion strategies in a digital music store context.\n",
    "\n",
    "Overall, this project demonstrates how Python can be effectively used to connect to a relational database, execute complex queries, and visualize results — all essential skills for data analysis in real-world scenarios."
   ]
  },
  {
   "cell_type": "code",
   "execution_count": null,
   "id": "0a66426e-efef-46c8-91ad-6e08dce976cf",
   "metadata": {},
   "outputs": [],
   "source": []
  }
 ],
 "metadata": {
  "kernelspec": {
   "display_name": "Python 3",
   "language": "python",
   "name": "python3"
  },
  "language_info": {
   "codemirror_mode": {
    "name": "ipython",
    "version": 3
   },
   "file_extension": ".py",
   "mimetype": "text/x-python",
   "name": "python",
   "nbconvert_exporter": "python",
   "pygments_lexer": "ipython3",
   "version": "3.12.4"
  }
 },
 "nbformat": 4,
 "nbformat_minor": 5
}
